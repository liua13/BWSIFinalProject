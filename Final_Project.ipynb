{
  "nbformat": 4,
  "nbformat_minor": 0,
  "metadata": {
    "colab": {
      "name": "Final_Notebook_CNN",
      "version": "0.3.2",
      "provenance": [],
      "collapsed_sections": [],
      "include_colab_link": true
    },
    "kernelspec": {
      "name": "python3",
      "display_name": "Python 3"
    },
    "accelerator": "GPU"
  },
  "cells": [
    {
      "cell_type": "markdown",
      "metadata": {
        "id": "view-in-github",
        "colab_type": "text"
      },
      "source": [
        "<a href=\"https://colab.research.google.com/github/liua13/BWSIFinalProject/blob/master/Final_Project.ipynb\" target=\"_parent\"><img src=\"https://colab.research.google.com/assets/colab-badge.svg\" alt=\"Open In Colab\"/></a>"
      ]
    },
    {
      "cell_type": "markdown",
      "metadata": {
        "id": "5I7Etl0wMOC5",
        "colab_type": "text"
      },
      "source": [
        "#**A Machine Learning Algorithm for Detection of Atrial Fibrillation**"
      ]
    },
    {
      "cell_type": "markdown",
      "metadata": {
        "id": "Mhdw856xMaLC",
        "colab_type": "text"
      },
      "source": [
        "Team Members: Phil Mathew, Shashank Jarmale, Lizzy Ling, Annie Liu"
      ]
    },
    {
      "cell_type": "markdown",
      "metadata": {
        "id": "CXwXLMhrMzVP",
        "colab_type": "text"
      },
      "source": [
        "###**Import Block**"
      ]
    },
    {
      "cell_type": "code",
      "metadata": {
        "id": "GFCUGJujvKzk",
        "colab_type": "code",
        "outputId": "c8b9a70d-e550-49d8-a451-9efc2a076edd",
        "colab": {
          "base_uri": "https://localhost:8080/",
          "height": 153
        }
      },
      "source": [
        "!pip install peakutils\n",
        "!pip install imblearn"
      ],
      "execution_count": 0,
      "outputs": [
        {
          "output_type": "stream",
          "text": [
            "Requirement already satisfied: peakutils in /usr/local/lib/python3.6/dist-packages (1.3.2)\n",
            "Requirement already satisfied: scipy in /usr/local/lib/python3.6/dist-packages (from peakutils) (1.1.0)\n",
            "Requirement already satisfied: numpy in /usr/local/lib/python3.6/dist-packages (from peakutils) (1.14.6)\n",
            "Requirement already satisfied: imblearn in /usr/local/lib/python3.6/dist-packages (0.0)\n",
            "Requirement already satisfied: imbalanced-learn in /usr/local/lib/python3.6/dist-packages (from imblearn) (0.4.3)\n",
            "Requirement already satisfied: numpy>=1.8.2 in /usr/local/lib/python3.6/dist-packages (from imbalanced-learn->imblearn) (1.14.6)\n",
            "Requirement already satisfied: scipy>=0.13.3 in /usr/local/lib/python3.6/dist-packages (from imbalanced-learn->imblearn) (1.1.0)\n",
            "Requirement already satisfied: scikit-learn>=0.20 in /usr/local/lib/python3.6/dist-packages (from imbalanced-learn->imblearn) (0.20.2)\n"
          ],
          "name": "stdout"
        }
      ]
    },
    {
      "cell_type": "code",
      "metadata": {
        "id": "sjgRtCYrioLD",
        "colab_type": "code",
        "colab": {}
      },
      "source": [
        "from scipy.io import * \n",
        "from google.colab import files\n",
        "import matplotlib.pyplot as plt\n",
        "import numpy as np\n",
        "import math\n",
        "import os\n",
        "import pandas as pd\n",
        "import random\n",
        "from sklearn import metrics\n",
        "from sklearn.utils import shuffle\n",
        "from sklearn.model_selection import train_test_split\n",
        "import tensorflow as tf\n",
        "from scipy.interpolate import *\n",
        "from scipy.signal import *\n",
        "from sklearn.metrics import roc_curve, auc\n",
        "from imblearn import over_sampling as imb"
      ],
      "execution_count": 0,
      "outputs": []
    },
    {
      "cell_type": "markdown",
      "metadata": {
        "id": "S09iUHd8NXIx",
        "colab_type": "text"
      },
      "source": [
        "###**Clone in Data from Annie's Github and the model from Phil's Github**"
      ]
    },
    {
      "cell_type": "code",
      "metadata": {
        "id": "5iB7SzL-m1Uw",
        "colab_type": "code",
        "outputId": "642124ff-71e0-4f97-b24e-bbec884b1d87",
        "colab": {
          "base_uri": "https://localhost:8080/",
          "height": 119
        }
      },
      "source": [
        "!git clone https://github.com/liua13/BWSIFinalProject.git\n",
        "os.chdir('./BWSIFinalProject') # change directory to repo containing training, validation, and testing data, as well as labels"
      ],
      "execution_count": 0,
      "outputs": [
        {
          "output_type": "stream",
          "text": [
            "Cloning into 'BWSIFinalProject'...\n",
            "remote: Enumerating objects: 8563, done.\u001b[K\n",
            "remote: Total 8563 (delta 0), reused 0 (delta 0), pack-reused 8563\n",
            "Receiving objects: 100% (8563/8563), 92.49 MiB | 21.47 MiB/s, done.\n",
            "Resolving deltas: 100% (11/11), done.\n",
            "Checking out files: 100% (8533/8533), done.\n"
          ],
          "name": "stdout"
        }
      ]
    },
    {
      "cell_type": "markdown",
      "metadata": {
        "id": "dOLXrHXbODU2",
        "colab_type": "text"
      },
      "source": [
        "###**Create a DataFrame from the .csv file that contains the labels**"
      ]
    },
    {
      "cell_type": "code",
      "metadata": {
        "id": "5mfbL3lOy0BQ",
        "colab_type": "code",
        "outputId": "928caaf0-e8da-4cea-d2ec-952618d32542",
        "colab": {
          "base_uri": "https://localhost:8080/",
          "height": 204
        }
      },
      "source": [
        "labels = pd.read_csv(\"labels.csv\", names = ['name', 'class'])\n",
        "labels['class'] = labels['class'].replace('N', 0) # normal (no heart arrythmias)               \n",
        "labels['class'] = labels['class'].replace('A', 1) # atrial fibrillation\n",
        "labels['class'] = labels['class'].replace('O', 2) # other heart arrythmia(s)\n",
        "labels['class'] = labels['class'].replace('~', 3) # signal too noisy to classify\n",
        "labels = labels.drop([\"name\"], axis=1)\n",
        "labels.head()"
      ],
      "execution_count": 0,
      "outputs": [
        {
          "output_type": "execute_result",
          "data": {
            "text/html": [
              "<div>\n",
              "<style scoped>\n",
              "    .dataframe tbody tr th:only-of-type {\n",
              "        vertical-align: middle;\n",
              "    }\n",
              "\n",
              "    .dataframe tbody tr th {\n",
              "        vertical-align: top;\n",
              "    }\n",
              "\n",
              "    .dataframe thead th {\n",
              "        text-align: right;\n",
              "    }\n",
              "</style>\n",
              "<table border=\"1\" class=\"dataframe\">\n",
              "  <thead>\n",
              "    <tr style=\"text-align: right;\">\n",
              "      <th></th>\n",
              "      <th>class</th>\n",
              "    </tr>\n",
              "  </thead>\n",
              "  <tbody>\n",
              "    <tr>\n",
              "      <th>0</th>\n",
              "      <td>0</td>\n",
              "    </tr>\n",
              "    <tr>\n",
              "      <th>1</th>\n",
              "      <td>0</td>\n",
              "    </tr>\n",
              "    <tr>\n",
              "      <th>2</th>\n",
              "      <td>0</td>\n",
              "    </tr>\n",
              "    <tr>\n",
              "      <th>3</th>\n",
              "      <td>1</td>\n",
              "    </tr>\n",
              "    <tr>\n",
              "      <th>4</th>\n",
              "      <td>1</td>\n",
              "    </tr>\n",
              "  </tbody>\n",
              "</table>\n",
              "</div>"
            ],
            "text/plain": [
              "   class\n",
              "0      0\n",
              "1      0\n",
              "2      0\n",
              "3      1\n",
              "4      1"
            ]
          },
          "metadata": {
            "tags": []
          },
          "execution_count": 26
        }
      ]
    },
    {
      "cell_type": "markdown",
      "metadata": {
        "id": "DQlAMHo2Oarx",
        "colab_type": "text"
      },
      "source": [
        "###**Create a DataFrame from the .csv with the record file names**"
      ]
    },
    {
      "cell_type": "code",
      "metadata": {
        "id": "Prqm5qEsvCpA",
        "colab_type": "code",
        "outputId": "b1846566-2184-4e12-fc9e-3baa89ef17b4",
        "colab": {
          "base_uri": "https://localhost:8080/",
          "height": 204
        }
      },
      "source": [
        "df  = pd.read_csv('allrecords.csv', names = ['record name', 'signals', 'frequency', 'sample number', 'date','time','filename', 'format', \n",
        "                                             'baseline','adc', 'zeroes', 'initial value','check','block','description', 'NaNs'])\n",
        "df = df.drop(['signals', 'frequency', 'format', 'baseline', 'filename', 'adc', 'zeroes', 'check', 'block', 'description', 'NaNs'], axis=1)\n",
        "df['labels'] = labels['class']\n",
        "df = df[df['labels'] != 3] # drop the \"too noisy to classify\" class\n",
        "df= df.reset_index()\n",
        "df.head()"
      ],
      "execution_count": 0,
      "outputs": [
        {
          "output_type": "execute_result",
          "data": {
            "text/html": [
              "<div>\n",
              "<style scoped>\n",
              "    .dataframe tbody tr th:only-of-type {\n",
              "        vertical-align: middle;\n",
              "    }\n",
              "\n",
              "    .dataframe tbody tr th {\n",
              "        vertical-align: top;\n",
              "    }\n",
              "\n",
              "    .dataframe thead th {\n",
              "        text-align: right;\n",
              "    }\n",
              "</style>\n",
              "<table border=\"1\" class=\"dataframe\">\n",
              "  <thead>\n",
              "    <tr style=\"text-align: right;\">\n",
              "      <th></th>\n",
              "      <th>index</th>\n",
              "      <th>record name</th>\n",
              "      <th>sample number</th>\n",
              "      <th>date</th>\n",
              "      <th>time</th>\n",
              "      <th>initial value</th>\n",
              "      <th>labels</th>\n",
              "    </tr>\n",
              "  </thead>\n",
              "  <tbody>\n",
              "    <tr>\n",
              "      <th>0</th>\n",
              "      <td>0</td>\n",
              "      <td>A00001</td>\n",
              "      <td>9000</td>\n",
              "      <td>2014-05-08</td>\n",
              "      <td>05:05:15</td>\n",
              "      <td>-127</td>\n",
              "      <td>0</td>\n",
              "    </tr>\n",
              "    <tr>\n",
              "      <th>1</th>\n",
              "      <td>1</td>\n",
              "      <td>A00002</td>\n",
              "      <td>9000</td>\n",
              "      <td>2014-05-16</td>\n",
              "      <td>11:05:25</td>\n",
              "      <td>128</td>\n",
              "      <td>0</td>\n",
              "    </tr>\n",
              "    <tr>\n",
              "      <th>2</th>\n",
              "      <td>2</td>\n",
              "      <td>A00003</td>\n",
              "      <td>18000</td>\n",
              "      <td>2014-04-15</td>\n",
              "      <td>12:04:05</td>\n",
              "      <td>56</td>\n",
              "      <td>0</td>\n",
              "    </tr>\n",
              "    <tr>\n",
              "      <th>3</th>\n",
              "      <td>3</td>\n",
              "      <td>A00004</td>\n",
              "      <td>9000</td>\n",
              "      <td>2014-05-01</td>\n",
              "      <td>11:05:48</td>\n",
              "      <td>519</td>\n",
              "      <td>1</td>\n",
              "    </tr>\n",
              "    <tr>\n",
              "      <th>4</th>\n",
              "      <td>4</td>\n",
              "      <td>A00005</td>\n",
              "      <td>18000</td>\n",
              "      <td>2013-12-23</td>\n",
              "      <td>08:12:08</td>\n",
              "      <td>-188</td>\n",
              "      <td>1</td>\n",
              "    </tr>\n",
              "  </tbody>\n",
              "</table>\n",
              "</div>"
            ],
            "text/plain": [
              "   index record name  sample number        date      time  initial value  \\\n",
              "0      0      A00001           9000  2014-05-08  05:05:15           -127   \n",
              "1      1      A00002           9000  2014-05-16  11:05:25            128   \n",
              "2      2      A00003          18000  2014-04-15  12:04:05             56   \n",
              "3      3      A00004           9000  2014-05-01  11:05:48            519   \n",
              "4      4      A00005          18000  2013-12-23  08:12:08           -188   \n",
              "\n",
              "   labels  \n",
              "0       0  \n",
              "1       0  \n",
              "2       0  \n",
              "3       1  \n",
              "4       1  "
            ]
          },
          "metadata": {
            "tags": []
          },
          "execution_count": 7
        }
      ]
    },
    {
      "cell_type": "markdown",
      "metadata": {
        "id": "VKMZUTFDOm2a",
        "colab_type": "text"
      },
      "source": [
        "###**The following function loads in ten seconds of the specified signal, and downsamples it to 100 Hz (to match Neulog data)**"
      ]
    },
    {
      "cell_type": "code",
      "metadata": {
        "id": "fRFaF_TQVAXu",
        "colab_type": "code",
        "colab": {}
      },
      "source": [
        "def get_sample_data(i):\n",
        "    record = df.loc[i,'record name']\n",
        "    recordnum = int(record[1:6])\n",
        "    file = \"./train\" + str(((recordnum - 1)//1000) + 1) + '/' + record + '.mat' # direct into each file in training data\n",
        "    a , b = butter(5, .05, 'highpass') # create a butterworth filter\n",
        "    sample = loadmat(file)[\"val\"][0][0:3000:3] + np.random.normal(0,30,loadmat(file)[\"val\"][0][0:3000:3].shape[0]) # add artificial noise to the sample\n",
        "    sample = filtfilt(a, b, sample) # applies filter to data\n",
        "    return sample"
      ],
      "execution_count": 0,
      "outputs": []
    },
    {
      "cell_type": "markdown",
      "metadata": {
        "id": "CV24dIPhO845",
        "colab_type": "text"
      },
      "source": [
        "###**The following function creates an array of normalized ECG signals for us to pass through our model**"
      ]
    },
    {
      "cell_type": "code",
      "metadata": {
        "id": "nfSRZJk_DpFF",
        "colab_type": "code",
        "colab": {}
      },
      "source": [
        "def signal_array(start,end):\n",
        "  features = np.ndarray(shape = ((end-start), 1000)) # create the signal array of values from the sample\n",
        "  for i in range(start, end):\n",
        "    sample = get_sample_data(i) # get the sample using the above function\n",
        "    \n",
        "    if(len(sample) < 1000):\n",
        "      features[i - start] = np.pad(sample, pad_width = (0,1000-len(sample)), mode = 'constant', constant_values = 0) # pad if the signal is less than 10 seconds long\n",
        "    else:\n",
        "      features[i - start] = sample[0:1000]\n",
        "    \n",
        "    features[i - start] = (features[i - start]-np.mean(features[i - start]))/np.std(features[i - start]) # normalization of data\n",
        "   \n",
        "  return features"
      ],
      "execution_count": 0,
      "outputs": []
    },
    {
      "cell_type": "markdown",
      "metadata": {
        "id": "KE3MlLVqUylg",
        "colab_type": "text"
      },
      "source": [
        "###**Function for reshaping data for SLAPNet Mark II**"
      ]
    },
    {
      "cell_type": "code",
      "metadata": {
        "id": "nyNA4ydQUxnJ",
        "colab_type": "code",
        "colab": {}
      },
      "source": [
        "def reshape_for_NN(arr):\n",
        "  arr = arr.reshape(arr.shape[0], arr.shape[1], 1) # change shape of array to allow for proper input into NN\n",
        "  return arr"
      ],
      "execution_count": 0,
      "outputs": []
    },
    {
      "cell_type": "markdown",
      "metadata": {
        "id": "YsnyLLJDPH2E",
        "colab_type": "text"
      },
      "source": [
        "###**Split Physionet 2017 Challenge data into train, validation, and test sets, and perform SMOTE over-sampling on the training set**"
      ]
    },
    {
      "cell_type": "code",
      "metadata": {
        "id": "tBZjsRCiEToj",
        "colab_type": "code",
        "colab": {}
      },
      "source": [
        "tv_data = signal_array(0, 8249) # get signal array for all of training data\n",
        "\n",
        "ros = imb.SMOTE() # initialize oversampling method\n",
        "\n",
        "X_train, X_val, y_train, y_val = train_test_split(tv_data[0:7248], df['labels'][0:7248], test_size = .25) # split data into training, validation, and test sets\n",
        "\n",
        "X_train, y_train = ros.fit_sample(X_train, y_train) # oversample data to balance classes\n",
        "\n",
        "X_train, X_val = reshape_for_NN(X_train), reshape_for_NN(X_val) # reshape array for input into NN\n",
        "\n",
        "y_train, y_val = tf.keras.utils.to_categorical(y_train), tf.keras.utils.to_categorical(y_val) # convert labels into proper format for NN verification of predictions\n",
        "\n",
        "test_data = reshape_for_NN(tv_data[7248:8249])\n",
        "test_labels = tf.keras.utils.to_categorical(df['labels'][7248:8249], num_classes = 3)"
      ],
      "execution_count": 0,
      "outputs": []
    },
    {
      "cell_type": "markdown",
      "metadata": {
        "id": "ObnazncqRWj5",
        "colab_type": "text"
      },
      "source": [
        "###**Define and load in SLAPNet Mark II - our convolutional neural network (CNN)**"
      ]
    },
    {
      "cell_type": "code",
      "metadata": {
        "id": "LUaSUYx9vfu6",
        "colab_type": "code",
        "outputId": "f47ac1d5-65b1-4153-cc12-dd1b95f624ee",
        "colab": {
          "base_uri": "https://localhost:8080/",
          "height": 85
        }
      },
      "source": [
        "!git clone https://github.com/PhilMathew/BWSINN.git"
      ],
      "execution_count": 0,
      "outputs": [
        {
          "output_type": "stream",
          "text": [
            "Cloning into 'BWSINN'...\n",
            "remote: Enumerating objects: 15, done.\u001b[K\n",
            "remote: Total 15 (delta 0), reused 0 (delta 0), pack-reused 15\u001b[K\n",
            "Unpacking objects: 100% (15/15), done.\n"
          ],
          "name": "stdout"
        }
      ]
    },
    {
      "cell_type": "code",
      "metadata": {
        "id": "XC-uwnF7Z_HM",
        "colab_type": "code",
        "outputId": "112cfae7-5638-4e0b-fab3-66289202fcb5",
        "colab": {
          "base_uri": "https://localhost:8080/",
          "height": 510
        }
      },
      "source": [
        "os.chdir('./BWSINN')\n",
        "def create_model(): # create an NN of three 1D convolution layers, which are alternated with average pooling layers\n",
        "  model = tf.keras.Sequential()\n",
        "  model.add(tf.keras.layers.InputLayer(input_shape = (1000,1)))\n",
        "  model.add(tf.keras.layers.Conv1D(128, kernel_size= 100, activation = tf.nn.relu))\n",
        "  model.add(tf.keras.layers.AveragePooling1D(pool_size=2 , strides=None, padding='valid', data_format=None))\n",
        "  model.add(tf.keras.layers.Conv1D(128, kernel_size= 5, activation = tf.nn.relu))\n",
        "  model.add(tf.keras.layers.AveragePooling1D(pool_size=2 , strides=None, padding='valid', data_format=None))\n",
        "  model.add(tf.keras.layers.Conv1D(64, kernel_size= 3, activation = tf.nn.relu))\n",
        "  model.add(tf.keras.layers.GlobalAveragePooling1D())\n",
        "  model.add(tf.keras.layers.Dropout(.25))\n",
        "  model.add(tf.keras.layers.Dense(3, activation = tf.nn.softmax)) # output layer\n",
        "  return model\n",
        "  \n",
        "model = create_model()\n",
        "model.load_weights('SLAPNet_MkII.h5') # load in weights from SLAPNet Mark II\n",
        "model.compile(optimizer = 'Adam', loss = 'categorical_crossentropy', metrics = ['accuracy']) # compile with the necessary optimizer and loss function\n",
        "model.summary()"
      ],
      "execution_count": 0,
      "outputs": [
        {
          "output_type": "stream",
          "text": [
            "WARNING:tensorflow:From /usr/local/lib/python3.6/dist-packages/tensorflow/python/ops/resource_variable_ops.py:435: colocate_with (from tensorflow.python.framework.ops) is deprecated and will be removed in a future version.\n",
            "Instructions for updating:\n",
            "Colocations handled automatically by placer.\n",
            "WARNING:tensorflow:From /usr/local/lib/python3.6/dist-packages/tensorflow/python/keras/layers/core.py:143: calling dropout (from tensorflow.python.ops.nn_ops) with keep_prob is deprecated and will be removed in a future version.\n",
            "Instructions for updating:\n",
            "Please use `rate` instead of `keep_prob`. Rate should be set to `rate = 1 - keep_prob`.\n",
            "_________________________________________________________________\n",
            "Layer (type)                 Output Shape              Param #   \n",
            "=================================================================\n",
            "conv1d (Conv1D)              (None, 901, 128)          12928     \n",
            "_________________________________________________________________\n",
            "average_pooling1d (AveragePo (None, 450, 128)          0         \n",
            "_________________________________________________________________\n",
            "conv1d_1 (Conv1D)            (None, 446, 128)          82048     \n",
            "_________________________________________________________________\n",
            "average_pooling1d_1 (Average (None, 223, 128)          0         \n",
            "_________________________________________________________________\n",
            "conv1d_2 (Conv1D)            (None, 221, 64)           24640     \n",
            "_________________________________________________________________\n",
            "global_average_pooling1d (Gl (None, 64)                0         \n",
            "_________________________________________________________________\n",
            "dropout (Dropout)            (None, 64)                0         \n",
            "_________________________________________________________________\n",
            "dense (Dense)                (None, 3)                 195       \n",
            "=================================================================\n",
            "Total params: 119,811\n",
            "Trainable params: 119,811\n",
            "Non-trainable params: 0\n",
            "_________________________________________________________________\n"
          ],
          "name": "stdout"
        }
      ]
    },
    {
      "cell_type": "markdown",
      "metadata": {
        "id": "SJA0-DDGRjaX",
        "colab_type": "text"
      },
      "source": [
        "###**Uses model to predict outcomes on test data**"
      ]
    },
    {
      "cell_type": "code",
      "metadata": {
        "id": "0BLFdj6tnsv0",
        "colab_type": "code",
        "outputId": "6619d311-1229-4c01-9b8b-43ef15f74010",
        "colab": {
          "base_uri": "https://localhost:8080/",
          "height": 136
        }
      },
      "source": [
        "neulog_predict = model.predict(test_data)\n",
        "print(neulog_predict)"
      ],
      "execution_count": 0,
      "outputs": [
        {
          "output_type": "stream",
          "text": [
            "[[9.5382828e-01 1.6886866e-05 4.6154745e-02]\n",
            " [7.9530442e-01 5.9642168e-03 1.9873129e-01]\n",
            " [9.3175697e-01 1.5125457e-03 6.6730477e-02]\n",
            " ...\n",
            " [8.6442852e-01 8.4052021e-03 1.2716626e-01]\n",
            " [7.4881703e-01 7.8192033e-02 1.7299084e-01]\n",
            " [9.4173414e-01 5.9249677e-04 5.7673328e-02]]\n"
          ],
          "name": "stdout"
        }
      ]
    },
    {
      "cell_type": "markdown",
      "metadata": {
        "id": "d1DiVCl_R9Ex",
        "colab_type": "text"
      },
      "source": [
        "###**Display Accuracy and Confusion Matrix**"
      ]
    },
    {
      "cell_type": "code",
      "metadata": {
        "id": "2SXz6P4FmlQM",
        "colab_type": "code",
        "outputId": "18855ad5-c897-4c65-d124-00fa092ba397",
        "colab": {
          "base_uri": "https://localhost:8080/",
          "height": 429
        }
      },
      "source": [
        "from sklearn import metrics\n",
        "# print the accuracy of the model's predictions\n",
        "print('Accuracy:', metrics.accuracy_score(np.argmax(test_labels, axis = 1),np.argmax(neulog_predict, axis=1)))\n",
        "# create the confusion matrix\n",
        "cm = metrics.confusion_matrix(np.argmax(test_labels, axis = 1),np.argmax(neulog_predict, axis=1), labels = [0,1,2]) \n",
        "cm = cm.astype('float') / cm.sum(axis=1)[:, np.newaxis] # normalize the confusion matrix\n",
        "print(cm)\n",
        "plt.imshow(cm, interpolation = 'nearest', cmap = plt.cm.Blues) # display the confusion matrix\n",
        "plt.colorbar()\n",
        "plt.xticks(np.arange(0,3, step = 1))\n",
        "plt.yticks(np.arange(0,3,step = 1))\n",
        "plt.xlabel('true label')\n",
        "plt.ylabel('predicted label')\n",
        "plt.grid(False)"
      ],
      "execution_count": 0,
      "outputs": [
        {
          "output_type": "stream",
          "text": [
            "Accuracy: 0.6863136863136863\n",
            "[[0.87260035 0.05235602 0.07504363]\n",
            " [0.20952381 0.67619048 0.11428571]\n",
            " [0.43343653 0.20743034 0.35913313]]\n"
          ],
          "name": "stdout"
        },
        {
          "output_type": "display_data",
          "data": {
            "image/png": "[encoded data removed]",
            "text/plain": [
              "<Figure size 576x396 with 2 Axes>"
            ]
          },
          "metadata": {
            "tags": []
          }
        }
      ]
    },
    {
      "cell_type": "markdown",
      "metadata": {
        "id": "FYIZaP3iSSoY",
        "colab_type": "text"
      },
      "source": [
        "###**Display ROC Curves and Calculate Average AUC**"
      ]
    },
    {
      "cell_type": "code",
      "metadata": {
        "id": "RQA1vlinkTG2",
        "colab_type": "code",
        "outputId": "56f73156-f1b0-4498-b3c8-39d583f2528e",
        "colab": {
          "base_uri": "https://localhost:8080/",
          "height": 393
        }
      },
      "source": [
        "y_pred = model.predict_proba(test_data) # predict probabilities on test data using model\n",
        "\n",
        "fpr = {} # false positive rate\n",
        "tpr = {} # true positive rate\n",
        "roc_auc = {} # area under the roc curve\n",
        "\n",
        "for i in range(3):\n",
        "  \n",
        "    fpr[i], tpr[i], _ = metrics.roc_curve(test_labels[:, i], y_pred[:, i]) # calculate fpr and tpr of model's predictions on test data\n",
        "    roc_auc[i] = metrics.auc(fpr[i], tpr[i]) # calculate area under the roc curve using fpr and tpr\n",
        "    plt.plot(fpr[i], tpr[i], label = str(i))\n",
        "    \n",
        "plt.plot([0, 1], [0, 1])\n",
        "plt.xlabel('False Positive Rate')\n",
        "plt.ylabel('True Positive Rate')\n",
        "plt.title('Multi-Class ROC Curve')\n",
        "plt.legend()\n",
        "plt.show()\n",
        "fpr[\"micro\"], tpr[\"micro\"], _ = metrics.roc_curve(test_labels.ravel(), y_pred.ravel())\n",
        "roc_auc = metrics.auc(fpr[\"micro\"], tpr[\"micro\"])\n",
        "print('ROC_AUC: ', roc_auc)"
      ],
      "execution_count": 0,
      "outputs": [
        {
          "output_type": "display_data",
          "data": {
            "image/png": "[encoded data removed]",
            "text/plain": [
              "<Figure size 576x396 with 1 Axes>"
            ]
          },
          "metadata": {
            "tags": []
          }
        },
        {
          "output_type": "stream",
          "text": [
            "ROC_AUC:  0.8559402635326712\n"
          ],
          "name": "stdout"
        }
      ]
    },
    {
      "cell_type": "markdown",
      "metadata": {
        "id": "mIIWFu4IScHt",
        "colab_type": "text"
      },
      "source": [
        "##**Running the model on Neulog Data**"
      ]
    },
    {
      "cell_type": "markdown",
      "metadata": {
        "id": "UXWDPq58ScMH",
        "colab_type": "text"
      },
      "source": [
        "###**Upload Neulog ECG signal to notebook for running through model**"
      ]
    },
    {
      "cell_type": "code",
      "metadata": {
        "id": "UsgbcWqcX8AW",
        "colab_type": "code",
        "outputId": "ab3ab2d6-472b-4ce4-f564-b7060699132c",
        "colab": {
          "resources": {
            "http://localhost:8080/nbextensions/google.colab/files.js": {
              "data": "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",
              "ok": true,
              "headers": [
                [
                  "content-type",
                  "application/javascript"
                ]
              ],
              "status": 200,
              "status_text": ""
            }
          },
          "base_uri": "https://localhost:8080/",
          "height": 91
        }
      },
      "source": [
        "up = files.upload()\n",
        "\n",
        "for i in up:\n",
        "  filename = i\n",
        "print(filename)"
      ],
      "execution_count": 0,
      "outputs": [
        {
          "output_type": "display_data",
          "data": {
            "text/html": [
              "\n",
              "     <input type=\"file\" id=\"files-93db1714-c34c-4d28-87bf-37ad5742e500\" name=\"files[]\" multiple disabled />\n",
              "     <output id=\"result-93db1714-c34c-4d28-87bf-37ad5742e500\">\n",
              "      Upload widget is only available when the cell has been executed in the\n",
              "      current browser session. Please rerun this cell to enable.\n",
              "      </output>\n",
              "      <script src=\"/nbextensions/google.colab/files.js\"></script> "
            ],
            "text/plain": [
              "<IPython.core.display.HTML object>"
            ]
          },
          "metadata": {
            "tags": []
          }
        },
        {
          "output_type": "stream",
          "text": [
            "Saving philecg.csv to philecg.csv\n",
            "philecg.csv\n"
          ],
          "name": "stdout"
        }
      ]
    },
    {
      "cell_type": "markdown",
      "metadata": {
        "id": "vMD8wMx6SotO",
        "colab_type": "text"
      },
      "source": [
        "###**Load the Neulog ECG signal into a numpy array, then run the model on the signal after filtering and normalization**"
      ]
    },
    {
      "cell_type": "code",
      "metadata": {
        "id": "44RTvCkrYWxf",
        "colab_type": "code",
        "outputId": "581f4bd4-bd2c-40d0-c488-0a94a31629ec",
        "colab": {
          "base_uri": "https://localhost:8080/",
          "height": 35
        }
      },
      "source": [
        "df2 = pd.read_csv(filename) # read Neulog ECG signal\n",
        "df2 = df2.drop(df2.index[1007:1009]) # drop any parts of .csv file that aren't datapoints\n",
        "df2 = df2.drop(df2.index[0:6]) # drop any parts of .csv file that aren't datapoints\n",
        "\n",
        "neu = np.array(df2[str(filename[0:-4])]).astype('float')\n",
        "a , b = butter(5, .05, 'highpass') \n",
        "neu = filtfilt(a, b, neu) # apply butterworth filter to data\n",
        "neu = (neu - np.mean(neu))/np.std(neu) # normalize data\n",
        "neu = neu[0:1000].reshape(1, 1000, 1) # reshape neulog data array to allow for passing into model\n",
        "\n",
        "pred = np.argmax(model.predict(neu), axis = 1) # make prediction on Neulog data\n",
        "\n",
        "if(pred == 1): # class 1 -----> atrial fibrillation\n",
        "  pred = 'Atrial Fibrillation Detected'\n",
        "elif(pred == 2): # class 2 -----> other heart arrythmia(s)\n",
        "  pred = 'No Atrial Fibrillation Detected, but Signs of Other Arrhythmia Detected'\n",
        "else: # class 0 -----> no heart arrythmias\n",
        "  pred = 'No Signs of Heart Arrythmia Detected'\n",
        "  \n",
        "print(pred)"
      ],
      "execution_count": 0,
      "outputs": [
        {
          "output_type": "stream",
          "text": [
            "No Signs of Heart Arrythmia Detected\n"
          ],
          "name": "stdout"
        }
      ]
    },
    {
      "cell_type": "code",
      "metadata": {
        "id": "gvP0JS-nV5PQ",
        "colab_type": "code",
        "outputId": "63b25ce8-fd49-46fe-e2be-c12b598625b2",
        "colab": {
          "base_uri": "https://localhost:8080/",
          "height": 610
        }
      },
      "source": [
        "plt.figure(figsize = (20,10))\n",
        "plt.plot(neu.reshape(1000,)) # plot filtered and normalized Neulog signal"
      ],
      "execution_count": 0,
      "outputs": [
        {
          "output_type": "execute_result",
          "data": {
            "text/plain": [
              "[<matplotlib.lines.Line2D at 0x7f73851c4cc0>]"
            ]
          },
          "metadata": {
            "tags": []
          },
          "execution_count": 11
        },
        {
          "output_type": "display_data",
          "data": {
            "image/png": "[encoded data removed]",
            "text/plain": [
              "<matplotlib.figure.Figure at 0x7f7380616828>"
            ]
          },
          "metadata": {
            "tags": []
          }
        }
      ]
    },
    {
      "cell_type": "markdown",
      "metadata": {
        "id": "TJONp6uTVQuQ",
        "colab_type": "text"
      },
      "source": [
        "###**Print the probabilities that the model predicted for each of the classes, for the ECG signal**"
      ]
    },
    {
      "cell_type": "code",
      "metadata": {
        "id": "rsBJ2ka6Ubov",
        "colab_type": "code",
        "outputId": "219cca37-7b57-4078-f5ce-a353f3fad0b5",
        "colab": {
          "base_uri": "https://localhost:8080/",
          "height": 35
        }
      },
      "source": [
        "model.predict_proba(neu)"
      ],
      "execution_count": 0,
      "outputs": [
        {
          "output_type": "execute_result",
          "data": {
            "text/plain": [
              "array([[8.9998943e-01, 8.6332541e-08, 1.0001048e-01]], dtype=float32)"
            ]
          },
          "metadata": {
            "tags": []
          },
          "execution_count": 12
        }
      ]
    }
  ]
}